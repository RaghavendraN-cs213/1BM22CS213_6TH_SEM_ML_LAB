{
  "nbformat": 4,
  "nbformat_minor": 0,
  "metadata": {
    "colab": {
      "provenance": []
    },
    "kernelspec": {
      "name": "python3",
      "display_name": "Python 3"
    },
    "language_info": {
      "name": "python"
    }
  },
  "cells": [
    {
      "cell_type": "code",
      "execution_count": 4,
      "metadata": {
        "colab": {
          "base_uri": "https://localhost:8080/"
        },
        "id": "0b-nRYWDOsQm",
        "outputId": "f3a24bad-91d5-40d7-ad55-b312c20dffdd"
      },
      "outputs": [
        {
          "output_type": "stream",
          "name": "stdout",
          "text": [
            "DataFrame loaded successfully!\n"
          ]
        }
      ],
      "source": [
        "import pandas as pd\n",
        "\n",
        "filename = \"housing.csv\"\n",
        "df = pd.read_csv(filename)\n",
        "print(\"DataFrame loaded successfully!\")\n"
      ]
    },
    {
      "cell_type": "code",
      "source": [
        "print(\"Column Information:\")\n",
        "df.info()\n"
      ],
      "metadata": {
        "colab": {
          "base_uri": "https://localhost:8080/"
        },
        "id": "CFhdlwdbQUn4",
        "outputId": "dfdec8bc-3b46-4514-e4eb-01c71e8f413c"
      },
      "execution_count": 5,
      "outputs": [
        {
          "output_type": "stream",
          "name": "stdout",
          "text": [
            "Column Information:\n",
            "<class 'pandas.core.frame.DataFrame'>\n",
            "RangeIndex: 13549 entries, 0 to 13548\n",
            "Data columns (total 7 columns):\n",
            " #   Column         Non-Null Count  Dtype  \n",
            "---  ------         --------------  -----  \n",
            " 0   date           13549 non-null  object \n",
            " 1   area           13549 non-null  object \n",
            " 2   average_price  13549 non-null  int64  \n",
            " 3   code           13549 non-null  object \n",
            " 4   houses_sold    13455 non-null  float64\n",
            " 5   no_of_crimes   7439 non-null   float64\n",
            " 6   borough_flag   13549 non-null  int64  \n",
            "dtypes: float64(2), int64(2), object(3)\n",
            "memory usage: 741.1+ KB\n"
          ]
        }
      ]
    },
    {
      "cell_type": "code",
      "source": [
        "print(df.describe)"
      ],
      "metadata": {
        "colab": {
          "base_uri": "https://localhost:8080/"
        },
        "id": "wzVhVjpvRThA",
        "outputId": "1d03e299-4bf1-47fb-8b82-e7e0c419ceae"
      },
      "execution_count": 6,
      "outputs": [
        {
          "output_type": "stream",
          "name": "stdout",
          "text": [
            "<bound method NDFrame.describe of              date            area  average_price       code  houses_sold  \\\n",
            "0      1995-01-01  city of london          91449  E09000001         17.0   \n",
            "1      1995-02-01  city of london          82203  E09000001          7.0   \n",
            "2      1995-03-01  city of london          79121  E09000001         14.0   \n",
            "3      1995-04-01  city of london          77101  E09000001          7.0   \n",
            "4      1995-05-01  city of london          84409  E09000001         10.0   \n",
            "...           ...             ...            ...        ...          ...   \n",
            "13544  2019-09-01         england         249942  E92000001      64605.0   \n",
            "13545  2019-10-01         england         249376  E92000001      68677.0   \n",
            "13546  2019-11-01         england         248515  E92000001      67814.0   \n",
            "13547  2019-12-01         england         250410  E92000001          NaN   \n",
            "13548  2020-01-01         england         247355  E92000001          NaN   \n",
            "\n",
            "       no_of_crimes  borough_flag  \n",
            "0               NaN             1  \n",
            "1               NaN             1  \n",
            "2               NaN             1  \n",
            "3               NaN             1  \n",
            "4               NaN             1  \n",
            "...             ...           ...  \n",
            "13544           NaN             0  \n",
            "13545           NaN             0  \n",
            "13546           NaN             0  \n",
            "13547           NaN             0  \n",
            "13548           NaN             0  \n",
            "\n",
            "[13549 rows x 7 columns]>\n"
          ]
        }
      ]
    },
    {
      "cell_type": "code",
      "source": [
        "# Display the count of unique labels for the \"houses_sold\" column\n",
        "if \"houses_sold\" in df.columns:\n",
        "    print(\"Unique Labels Count for 'houses_sold':\")\n",
        "    print(df[\"houses_sold\"].value_counts())\n",
        "else:\n",
        "    print(\"'houses_sold' column is not found in the dataset.\")\n"
      ],
      "metadata": {
        "colab": {
          "base_uri": "https://localhost:8080/"
        },
        "id": "Xv63scCJRaEY",
        "outputId": "dbdb7166-0665-47aa-e284-f4594d00e49f"
      },
      "execution_count": 8,
      "outputs": [
        {
          "output_type": "stream",
          "name": "stdout",
          "text": [
            "Unique Labels Count for 'houses_sold':\n",
            "houses_sold\n",
            "233.0      44\n",
            "248.0      41\n",
            "274.0      41\n",
            "303.0      41\n",
            "249.0      40\n",
            "           ..\n",
            "10652.0     1\n",
            "9632.0      1\n",
            "9330.0      1\n",
            "10893.0     1\n",
            "67814.0     1\n",
            "Name: count, Length: 3946, dtype: int64\n"
          ]
        }
      ]
    },
    {
      "cell_type": "code",
      "source": [
        "print(\"Columns with Missing Values:\")\n",
        "missing_values = df.isnull().sum()\n",
        "missing_columns = missing_values[missing_values > 0]\n",
        "print(missing_columns)\n"
      ],
      "metadata": {
        "colab": {
          "base_uri": "https://localhost:8080/"
        },
        "id": "1ubRshUITGvX",
        "outputId": "e27ac035-5ae6-47bf-be44-604443a9f240"
      },
      "execution_count": 9,
      "outputs": [
        {
          "output_type": "stream",
          "name": "stdout",
          "text": [
            "Columns with Missing Values:\n",
            "houses_sold       94\n",
            "no_of_crimes    6110\n",
            "dtype: int64\n"
          ]
        }
      ]
    }
  ]
}