{
  "nbformat": 4,
  "nbformat_minor": 0,
  "metadata": {
    "colab": {
      "provenance": []
    },
    "kernelspec": {
      "name": "python3",
      "display_name": "Python 3"
    },
    "language_info": {
      "name": "python"
    }
  },
  "cells": [
    {
      "cell_type": "code",
      "execution_count": 3,
      "metadata": {
        "colab": {
          "base_uri": "https://localhost:8080/"
        },
        "id": "45fA7EwCV-dw",
        "outputId": "8b30ba40-fbde-4846-d2b3-ff355014e546"
      },
      "outputs": [
        {
          "output_type": "stream",
          "name": "stdout",
          "text": [
            "{'Outlook': {'Overcast': 'Yes',\n",
            "             'Rain': {'Wind': {'Strong': 'No', 'Weak': 'Yes'}},\n",
            "             'Sunny': {'Humidity': {'High': 'No', 'Normal': 'Yes'}}}}\n"
          ]
        }
      ],
      "source": [
        "import numpy as np\n",
        "import pandas as pd\n",
        "from collections import Counter\n",
        "\n",
        "# importing Weather dataset\n",
        "df = pd.read_csv(\"weather.csv\")\n",
        "\n",
        "# Function to calculate entropy\n",
        "def entropy(target_col):\n",
        "    values, counts = np.unique(target_col, return_counts=True)\n",
        "    probs = counts / counts.sum()\n",
        "    return -np.sum(probs * np.log2(probs))\n",
        "\n",
        "# Function to calculate Information Gain\n",
        "def information_gain(df, feature, target=\"Decision\"):\n",
        "    total_entropy = entropy(df[target])\n",
        "    values, counts = np.unique(df[feature], return_counts=True)\n",
        "\n",
        "    weighted_entropy = sum(\n",
        "        (counts[i] / sum(counts)) * entropy(df[df[feature] == values[i]][target])\n",
        "        for i in range(len(values))\n",
        "    )\n",
        "    return total_entropy - weighted_entropy\n",
        "\n",
        "# ID3 Algorithm\n",
        "def id3(df, features, target=\"Decision\"):\n",
        "    unique_classes = np.unique(df[target])\n",
        "\n",
        "    # If all samples belong to one class, return that class\n",
        "    if len(unique_classes) == 1:\n",
        "        return unique_classes[0]\n",
        "\n",
        "    # If no more features left to split on, return the majority class\n",
        "    if len(features) == 0:\n",
        "        return Counter(df[target]).most_common(1)[0][0]\n",
        "\n",
        "    # Compute Information Gain for each feature\n",
        "    gains = {feature: information_gain(df, feature, target) for feature in features}\n",
        "\n",
        "    # Select feature with maximum Information Gain\n",
        "    best_feature = max(gains, key=gains.get)\n",
        "\n",
        "    # Create the decision tree\n",
        "    tree = {best_feature: {}}\n",
        "    for value in np.unique(df[best_feature]):\n",
        "        subset = df[df[best_feature] == value].drop(columns=[best_feature])\n",
        "        tree[best_feature][value] = id3(subset, [f for f in features if f != best_feature], target)\n",
        "\n",
        "    return tree\n",
        "\n",
        "# Run ID3 Algorithm\n",
        "features = list(df.columns[:-1])  # Excluding the target column\n",
        "decision_tree = id3(df, features)\n",
        "\n",
        "# Print the decision tree\n",
        "import pprint\n",
        "pprint.pprint(decision_tree)\n"
      ]
    },
    {
      "cell_type": "code",
      "source": [
        "pip install graphviz\n"
      ],
      "metadata": {
        "colab": {
          "base_uri": "https://localhost:8080/"
        },
        "id": "ibxE2u1KY5Un",
        "outputId": "f482de21-fc45-4b4e-e4fe-a769d61abe3b"
      },
      "execution_count": 4,
      "outputs": [
        {
          "output_type": "stream",
          "name": "stdout",
          "text": [
            "Requirement already satisfied: graphviz in /usr/local/lib/python3.11/dist-packages (0.20.3)\n"
          ]
        }
      ]
    },
    {
      "cell_type": "code",
      "source": [
        "import graphviz\n",
        "\n",
        "# Create a Graphviz Digraph\n",
        "dot = graphviz.Digraph(format='png')\n",
        "\n",
        "# Root Node: Outlook\n",
        "dot.node('Outlook', 'Outlook')\n",
        "\n",
        "# Branches from Outlook\n",
        "dot.node('Sunny', 'Sunny')\n",
        "dot.node('Overcast', 'Overcast')\n",
        "dot.node('Rain', 'Rain')\n",
        "dot.edge('Outlook', 'Sunny')\n",
        "dot.edge('Outlook', 'Overcast')\n",
        "dot.edge('Outlook', 'Rain')\n",
        "\n",
        "# Overcast always leads to \"Yes\"\n",
        "dot.node('Yes1', 'Yes', shape='box', style='filled', fillcolor='lightgreen')\n",
        "dot.edge('Overcast', 'Yes1')\n",
        "\n",
        "# Sunny Branch -> Humidity Check\n",
        "dot.node('Humidity', 'Humidity')\n",
        "dot.edge('Sunny', 'Humidity')\n",
        "\n",
        "# Humidity splits into High and Normal\n",
        "dot.node('High', 'High')\n",
        "dot.node('Normal', 'Normal')\n",
        "dot.edge('Humidity', 'High')\n",
        "dot.edge('Humidity', 'Normal')\n",
        "\n",
        "# High Humidity -> No, Normal Humidity -> Yes\n",
        "dot.node('No1', 'No', shape='box', style='filled', fillcolor='lightcoral')\n",
        "dot.node('Yes2', 'Yes', shape='box', style='filled', fillcolor='lightgreen')\n",
        "dot.edge('High', 'No1')\n",
        "dot.edge('Normal', 'Yes2')\n",
        "\n",
        "# Rain Branch -> Wind Check\n",
        "dot.node('Wind', 'Wind')\n",
        "dot.edge('Rain', 'Wind')\n",
        "\n",
        "# Wind splits into Weak and Strong\n",
        "dot.node('Weak', 'Weak')\n",
        "dot.node('Strong', 'Strong')\n",
        "dot.edge('Wind', 'Weak')\n",
        "dot.edge('Wind', 'Strong')\n",
        "\n",
        "# Weak Wind -> Yes, Strong Wind -> No\n",
        "dot.node('Yes3', 'Yes', shape='box', style='filled', fillcolor='lightgreen')\n",
        "dot.node('No2', 'No', shape='box', style='filled', fillcolor='lightcoral')\n",
        "dot.edge('Weak', 'Yes3')\n",
        "dot.edge('Strong', 'No2')\n",
        "\n",
        "# Render and display the tree\n",
        "dot.render('decision_tree')\n",
        "dot.view()\n"
      ],
      "metadata": {
        "colab": {
          "base_uri": "https://localhost:8080/",
          "height": 35
        },
        "id": "xuZUBJgRY9Au",
        "outputId": "fbff6b56-11bb-49e2-9d52-8e4e6311ee5f"
      },
      "execution_count": 5,
      "outputs": [
        {
          "output_type": "execute_result",
          "data": {
            "text/plain": [
              "'decision_tree.png'"
            ],
            "application/vnd.google.colaboratory.intrinsic+json": {
              "type": "string"
            }
          },
          "metadata": {},
          "execution_count": 5
        }
      ]
    }
  ]
}