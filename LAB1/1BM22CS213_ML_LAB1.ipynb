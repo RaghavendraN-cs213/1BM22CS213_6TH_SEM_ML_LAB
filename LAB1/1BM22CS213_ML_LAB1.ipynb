{
  "nbformat": 4,
  "nbformat_minor": 0,
  "metadata": {
    "colab": {
      "provenance": []
    },
    "kernelspec": {
      "name": "python3",
      "display_name": "Python 3"
    },
    "language_info": {
      "name": "python"
    }
  },
  "cells": [
    {
      "cell_type": "code",
      "execution_count": 5,
      "metadata": {
        "id": "QR7Pt76qZbsT"
      },
      "outputs": [],
      "source": [
        "import pandas as pd\n",
        "\n",
        "# Replace \"path_to_file\" with the correct file path in your Google Drive\n",
        "diabetes_df = pd.read_csv(\"/content/Dataset_of_Diabetes .csv\")\n",
        "adult_income_df = pd.read_csv(\"adult.csv\")\n"
      ]
    },
    {
      "source": [
        "import pandas as pd\n",
        "import numpy as np # Import numpy and assign it the alias 'np'\n",
        "\n",
        "# Replace \"path_to_file\" with the correct file path in your Google Drive\n",
        "diabetes_df = pd.read_csv(\"/content/Dataset_of_Diabetes .csv\")\n",
        "adult_income_df = pd.read_csv(\"adult.csv\")\n",
        "\n",
        "# Checking for missing values\n",
        "print(\"Diabetes Dataset Missing Values:\\n\", diabetes_df.isnull().sum())\n",
        "print(\"\\nAdult Income Dataset Missing Values:\\n\", adult_income_df.isnull().sum())\n",
        "\n",
        "# Selecting only numerical features for calculating the mean\n",
        "numerical_features = diabetes_df.select_dtypes(include=np.number).columns\n",
        "\n",
        "# Filling missing numerical values with mean (or other methods as necessary)\n",
        "diabetes_df[numerical_features] = diabetes_df[numerical_features].fillna(diabetes_df[numerical_features].mean())\n",
        "\n",
        "# Dropping rows with missing values in categorical columns\n",
        "adult_income_df.dropna(inplace=True)"
      ],
      "cell_type": "code",
      "metadata": {
        "colab": {
          "base_uri": "https://localhost:8080/"
        },
        "id": "zCaGQXk9a1XF",
        "outputId": "c8d29ea7-5829-413d-f452-c9e6c1d268e6"
      },
      "execution_count": 8,
      "outputs": [
        {
          "output_type": "stream",
          "name": "stdout",
          "text": [
            "Diabetes Dataset Missing Values:\n",
            " ID           0\n",
            "No_Pation    0\n",
            "Gender       0\n",
            "AGE          0\n",
            "Urea         0\n",
            "Cr           0\n",
            "HbA1c        0\n",
            "Chol         0\n",
            "TG           0\n",
            "HDL          0\n",
            "LDL          0\n",
            "VLDL         0\n",
            "BMI          0\n",
            "CLASS        0\n",
            "dtype: int64\n",
            "\n",
            "Adult Income Dataset Missing Values:\n",
            " age                0\n",
            "workclass          0\n",
            "fnlwgt             0\n",
            "education          0\n",
            "educational-num    0\n",
            "marital-status     0\n",
            "occupation         0\n",
            "relationship       0\n",
            "race               0\n",
            "gender             0\n",
            "capital-gain       0\n",
            "capital-loss       0\n",
            "hours-per-week     0\n",
            "native-country     0\n",
            "income             0\n",
            "dtype: int64\n"
          ]
        }
      ]
    },
    {
      "source": [
        "from sklearn.preprocessing import MinMaxScaler\n",
        "\n",
        "scaler = MinMaxScaler()\n",
        "\n",
        "# Select only numerical features for scaling\n",
        "numerical_features = diabetes_df.select_dtypes(include=np.number).columns\n",
        "\n",
        "# Apply Min-Max Scaling to numerical features\n",
        "diabetes_df_scaled = pd.DataFrame(scaler.fit_transform(diabetes_df[numerical_features]),\n",
        "                                  columns=numerical_features,\n",
        "                                  index=diabetes_df.index)  # Keep original index\n",
        "\n",
        "# Concatenate scaled numerical features with original non-numerical features\n",
        "diabetes_df_final = pd.concat([diabetes_df_scaled, diabetes_df.drop(columns=numerical_features)], axis=1)\n",
        "print(diabetes_df_final.head())"
      ],
      "cell_type": "code",
      "metadata": {
        "colab": {
          "base_uri": "https://localhost:8080/"
        },
        "id": "d7auV4mhbw0V",
        "outputId": "22e969db-8080-49a1-800a-6c26546dd5b7"
      },
      "execution_count": 13,
      "outputs": [
        {
          "output_type": "stream",
          "name": "stdout",
          "text": [
            "         ID  No_Pation       AGE      Urea        Cr     HbA1c      Chol  \\\n",
            "0  0.627034   0.000237  0.508475  0.109375  0.050378  0.264901  0.407767   \n",
            "1  0.918648   0.000452  0.101695  0.104167  0.070529  0.264901  0.359223   \n",
            "2  0.524406   0.000634  0.508475  0.109375  0.050378  0.264901  0.407767   \n",
            "3  0.849812   0.001160  0.508475  0.109375  0.050378  0.264901  0.407767   \n",
            "4  0.629537   0.000452  0.220339  0.171875  0.050378  0.264901  0.475728   \n",
            "\n",
            "         TG       HDL       LDL      VLDL       BMI Gender CLASS  \n",
            "0  0.044444  0.226804  0.114583  0.011461  0.173913      F     N  \n",
            "1  0.081481  0.092784  0.187500  0.014327  0.139130      M     N  \n",
            "2  0.044444  0.226804  0.114583  0.011461  0.173913      F     N  \n",
            "3  0.044444  0.226804  0.114583  0.011461  0.173913      F     N  \n",
            "4  0.051852  0.061856  0.177083  0.008596  0.069565      M     N  \n"
          ]
        }
      ]
    },
    {
      "source": [
        "from sklearn.preprocessing import StandardScaler\n",
        "import pandas as pd\n",
        "import numpy as np\n",
        "\n",
        "# ... (Your previous code to load and preprocess data) ...\n",
        "\n",
        "\n",
        "# Select only numerical features for scaling\n",
        "numerical_features = adult_income_df.select_dtypes(include=np.number).columns\n",
        "\n",
        "# Apply Standard Scaling only to numerical features\n",
        "scaler = StandardScaler()\n",
        "adult_income_df_scaled = pd.DataFrame(scaler.fit_transform(adult_income_df[numerical_features]),\n",
        "                                       columns=numerical_features,\n",
        "                                       index=adult_income_df.index)  # Keep original index\n",
        "\n",
        "\n",
        "# Concatenate scaled numerical features with original non-numerical features\n",
        "adult_income_df_final = pd.concat([adult_income_df_scaled, adult_income_df.drop(columns=numerical_features)], axis=1)\n",
        "\n",
        "print(adult_income_df_final.head())\n"
      ],
      "cell_type": "code",
      "metadata": {
        "colab": {
          "base_uri": "https://localhost:8080/"
        },
        "id": "jqzR7xs9cN1d",
        "outputId": "17e043f0-8dab-4f44-caa5-a9c43195b978"
      },
      "execution_count": 17,
      "outputs": [
        {
          "output_type": "stream",
          "name": "stdout",
          "text": [
            "        age    fnlwgt  educational-num  capital-gain  capital-loss  \\\n",
            "0 -0.995129  0.351675        -1.197259     -0.144804     -0.217127   \n",
            "1 -0.046942 -0.945524        -0.419335     -0.144804     -0.217127   \n",
            "2 -0.776316  1.394723         0.747550     -0.144804     -0.217127   \n",
            "3  0.390683 -0.277844        -0.030373      0.886874     -0.217127   \n",
            "4 -1.505691 -0.815954        -0.030373     -0.144804     -0.217127   \n",
            "\n",
            "   hours-per-week  workclass     education      marital-status  \\\n",
            "0       -0.034087    Private          11th       Never-married   \n",
            "1        0.772930    Private       HS-grad  Married-civ-spouse   \n",
            "2       -0.034087  Local-gov    Assoc-acdm  Married-civ-spouse   \n",
            "3       -0.034087    Private  Some-college  Married-civ-spouse   \n",
            "4       -0.841104          ?  Some-college       Never-married   \n",
            "\n",
            "          occupation relationship   race  gender native-country income  \n",
            "0  Machine-op-inspct    Own-child  Black    Male  United-States  <=50K  \n",
            "1    Farming-fishing      Husband  White    Male  United-States  <=50K  \n",
            "2    Protective-serv      Husband  White    Male  United-States   >50K  \n",
            "3  Machine-op-inspct      Husband  Black    Male  United-States   >50K  \n",
            "4                  ?    Own-child  White  Female  United-States  <=50K  \n"
          ]
        }
      ]
    },
    {
      "cell_type": "code",
      "source": [],
      "metadata": {
        "id": "SnSFITapcWCc"
      },
      "execution_count": null,
      "outputs": []
    }
  ]
}