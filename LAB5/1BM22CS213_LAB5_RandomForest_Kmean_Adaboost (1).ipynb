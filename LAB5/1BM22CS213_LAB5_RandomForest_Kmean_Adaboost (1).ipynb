{
  "nbformat": 4,
  "nbformat_minor": 0,
  "metadata": {
    "colab": {
      "provenance": []
    },
    "kernelspec": {
      "name": "python3",
      "display_name": "Python 3"
    },
    "language_info": {
      "name": "python"
    }
  },
  "cells": [
    {
      "cell_type": "markdown",
      "source": [
        "#Q1 - Train Dataset"
      ],
      "metadata": {
        "id": "ayVVI1hnreYj"
      }
    },
    {
      "cell_type": "code",
      "execution_count": null,
      "metadata": {
        "colab": {
          "base_uri": "https://localhost:8080/"
        },
        "id": "qrt7Mxvwpuap",
        "outputId": "b338a69d-119b-408f-ae39-e5112c23b2e3"
      },
      "outputs": [
        {
          "output_type": "stream",
          "name": "stdout",
          "text": [
            "Accuracy: 81.01%\n",
            "Confusion Matrix:\n",
            "[[91 14]\n",
            " [20 54]]\n"
          ]
        }
      ],
      "source": [
        "import pandas as pd\n",
        "from sklearn.model_selection import train_test_split\n",
        "from sklearn.ensemble import RandomForestClassifier\n",
        "from sklearn.metrics import accuracy_score, confusion_matrix\n",
        "from sklearn.preprocessing import LabelEncoder\n",
        "\n",
        "# Load the dataset\n",
        "train_data_path = 'train.csv'  # Replace with the correct path if necessary\n",
        "train_data = pd.read_csv(train_data_path)\n",
        "\n",
        "# Preprocess the data\n",
        "# Drop columns that are not useful for the model (e.g., Name, Ticket, PassengerId, Cabin)\n",
        "train_data_cleaned = train_data.drop(columns=['PassengerId', 'Name', 'Ticket', 'Cabin'])\n",
        "\n",
        "# Handle missing values: Fill missing 'Age' with the mean and 'Embarked' with the mode\n",
        "train_data_cleaned['Age'] = train_data_cleaned['Age'].fillna(train_data_cleaned['Age'].mean())\n",
        "train_data_cleaned['Embarked'] = train_data_cleaned['Embarked'].fillna(train_data_cleaned['Embarked'].mode()[0])\n",
        "\n",
        "\n",
        "# Encoding categorical variables 'Sex' and 'Embarked'\n",
        "label_encoder_sex = LabelEncoder()\n",
        "train_data_cleaned['Sex'] = label_encoder_sex.fit_transform(train_data_cleaned['Sex'])\n",
        "\n",
        "label_encoder_embarked = LabelEncoder()\n",
        "train_data_cleaned['Embarked'] = label_encoder_embarked.fit_transform(train_data_cleaned['Embarked'])\n",
        "\n",
        "# Split the data into features (X) and target (y)\n",
        "X = train_data_cleaned.drop(columns=['Survived'])\n",
        "y = train_data_cleaned['Survived']\n",
        "\n",
        "# Split the data into 80% training and 20% testing\n",
        "X_train, X_test, y_train, y_test = train_test_split(X, y, test_size=0.2, random_state=42)\n",
        "\n",
        "# Initialize and train the Random Forest model\n",
        "rf_model = RandomForestClassifier(n_estimators=100, random_state=42)\n",
        "rf_model.fit(X_train, y_train)\n",
        "\n",
        "# Make predictions on the test set\n",
        "y_pred = rf_model.predict(X_test)\n",
        "\n",
        "# Evaluate the model\n",
        "accuracy = accuracy_score(y_test, y_pred)\n",
        "conf_matrix = confusion_matrix(y_test, y_pred)\n",
        "\n",
        "# Print the results\n",
        "print(f\"Accuracy: {accuracy * 100:.2f}%\")\n",
        "print(\"Confusion Matrix:\")\n",
        "print(conf_matrix)\n"
      ]
    },
    {
      "cell_type": "markdown",
      "source": [
        "#Q2 - Iris Dataset"
      ],
      "metadata": {
        "id": "XpsNO3RZrj4b"
      }
    },
    {
      "cell_type": "code",
      "source": [
        "import pandas as pd\n",
        "from sklearn.model_selection import train_test_split\n",
        "from sklearn.ensemble import RandomForestClassifier\n",
        "from sklearn.metrics import accuracy_score\n",
        "from sklearn.datasets import load_iris\n",
        "\n",
        "# Load the Iris dataset\n",
        "iris = load_iris()\n",
        "X = iris.data  # Features\n",
        "y = iris.target  # Target variable (species)\n",
        "\n",
        "# Split the dataset into 80% training and 20% testing\n",
        "X_train, X_test, y_train, y_test = train_test_split(X, y, test_size=0.2, random_state=42)\n",
        "\n",
        "# 1. Train with default n_estimators=10\n",
        "rf_model_default = RandomForestClassifier(n_estimators=10, random_state=42)\n",
        "rf_model_default.fit(X_train, y_train)\n",
        "\n",
        "# Evaluate the accuracy score with default n_estimators\n",
        "y_pred_default = rf_model_default.predict(X_test)\n",
        "accuracy_default = accuracy_score(y_test, y_pred_default)\n",
        "\n",
        "print(f\"Accuracy with default n_estimators=10: {accuracy_default * 100:.2f}%\")\n",
        "\n",
        "# 2. Fine-tuning the model by changing n_estimators\n",
        "best_accuracy = 0\n",
        "best_n_estimators = 10\n",
        "\n",
        "for n_estimators in [10, 50, 100, 200, 500]:\n",
        "    rf_model = RandomForestClassifier(n_estimators=n_estimators, random_state=42)\n",
        "    rf_model.fit(X_train, y_train)\n",
        "\n",
        "    # Evaluate the model\n",
        "    y_pred = rf_model.predict(X_test)\n",
        "    accuracy = accuracy_score(y_test, y_pred)\n",
        "\n",
        "    if accuracy > best_accuracy:\n",
        "        best_accuracy = accuracy\n",
        "        best_n_estimators = n_estimators\n",
        "\n",
        "print(f\"Best accuracy achieved with n_estimators={best_n_estimators}: {best_accuracy * 100:.2f}%\")"
      ],
      "metadata": {
        "colab": {
          "base_uri": "https://localhost:8080/"
        },
        "id": "EVeG-JY-rTrr",
        "outputId": "80504afc-cb94-4933-cb25-9332e616dba0"
      },
      "execution_count": null,
      "outputs": [
        {
          "output_type": "stream",
          "name": "stdout",
          "text": [
            "Accuracy with default n_estimators=10: 100.00%\n",
            "Best accuracy achieved with n_estimators=10: 100.00%\n"
          ]
        }
      ]
    },
    {
      "cell_type": "code",
      "source": [
        "from sklearn.datasets import load_iris\n",
        "from sklearn.ensemble import RandomForestClassifier\n",
        "from sklearn.model_selection import train_test_split\n",
        "from sklearn.preprocessing import label_binarize\n",
        "from sklearn.metrics import roc_auc_score\n",
        "import matplotlib.pyplot as plt\n",
        "\n",
        "# Load iris dataset\n",
        "iris = load_iris()\n",
        "X, y = iris.data, iris.target\n",
        "\n",
        "# Binarize the output for AUC (multiclass)\n",
        "y_binarized = label_binarize(y, classes=[0, 1, 2])\n",
        "\n",
        "# Split dataset\n",
        "X_train, X_test, y_train, y_test = train_test_split(X, y_binarized, test_size=0.2, random_state=42)\n",
        "\n",
        "# Track AUC scores\n",
        "n_estimators_list = [10, 20, 30]\n",
        "auc_scores = []\n",
        "\n",
        "# Train and compute AUC for each n_estimators value\n",
        "for n in n_estimators_list:\n",
        "    rf = RandomForestClassifier(n_estimators=n, random_state=42)\n",
        "    rf.fit(X_train, y_train)\n",
        "    y_prob = rf.predict_proba(X_test)\n",
        "\n",
        "    # For multiclass AUC, concatenate predictions from all classifiers\n",
        "    y_prob_combined = [prob[:, 1] for prob in y_prob]\n",
        "    y_prob_stack = list(map(list, zip(*y_prob_combined)))\n",
        "\n",
        "    # Compute macro AUC\n",
        "    auc = roc_auc_score(y_test, y_prob_stack, average='macro', multi_class='ovr')\n",
        "    auc_scores.append(auc)\n",
        "\n",
        "# Plotting\n",
        "plt.figure(figsize=(8, 5))\n",
        "plt.plot(n_estimators_list, auc_scores, marker='o', linestyle='-')\n",
        "plt.title(\"AUC Score vs n_estimators\")\n",
        "plt.xlabel(\"n_estimators\")\n",
        "plt.ylabel(\"AUC Score\")\n",
        "plt.grid(True)\n",
        "plt.show()\n"
      ],
      "metadata": {
        "colab": {
          "base_uri": "https://localhost:8080/",
          "height": 487
        },
        "id": "upKoltC8sNqj",
        "outputId": "9bc3bb12-7c6f-423d-e95a-e2c5e2a252fc"
      },
      "execution_count": null,
      "outputs": [
        {
          "output_type": "display_data",
          "data": {
            "text/plain": [
              "<Figure size 800x500 with 1 Axes>"
            ],
            "image/png": "[encoded data removed]"
          },
          "metadata": {}
        }
      ]
    },
    {
      "cell_type": "markdown",
      "source": [],
      "metadata": {
        "id": "VQuj2SexHV5L"
      }
    },
    {
      "cell_type": "markdown",
      "source": [
        "#Q1 - Income.csv Dataset"
      ],
      "metadata": {
        "id": "3BA_HhFnzask"
      }
    },
    {
      "cell_type": "code",
      "execution_count": null,
      "metadata": {
        "colab": {
          "base_uri": "https://localhost:8080/"
        },
        "id": "j3NI7bTtyn08",
        "outputId": "773c6bfa-ac19-4fd9-f8ed-93e10e75380e"
      },
      "outputs": [
        {
          "output_type": "stream",
          "name": "stdout",
          "text": [
            "Accuracy: 83.27%\n",
            "Confusion Matrix:\n",
            "[[7003  411]\n",
            " [1223 1132]]\n"
          ]
        }
      ],
      "source": [
        "import pandas as pd\n",
        "from sklearn.model_selection import train_test_split\n",
        "from sklearn.ensemble import AdaBoostClassifier\n",
        "from sklearn.tree import DecisionTreeClassifier\n",
        "from sklearn.metrics import accuracy_score, confusion_matrix\n",
        "\n",
        "# Load the dataset\n",
        "data = pd.read_csv('income.csv')\n",
        "\n",
        "# Define features and target variable\n",
        "X = data.drop(columns=['income_level'])\n",
        "y = data['income_level']\n",
        "\n",
        "# Split the dataset into 80% training and 20% testing\n",
        "X_train, X_test, y_train, y_test = train_test_split(X, y, test_size=0.2, random_state=42)\n",
        "\n",
        "# Build AdaBoost model (default base estimator is a DecisionTreeClassifier with max_depth=1)\n",
        "ada_model = AdaBoostClassifier(n_estimators=50, learning_rate=1.0, random_state=42)\n",
        "\n",
        "# Train the model\n",
        "ada_model.fit(X_train, y_train)\n",
        "\n",
        "# Predict on test set\n",
        "y_pred = ada_model.predict(X_test)\n",
        "\n",
        "# Evaluate the model\n",
        "accuracy = accuracy_score(y_test, y_pred)\n",
        "conf_matrix = confusion_matrix(y_test, y_pred)\n",
        "\n",
        "# Print results\n",
        "print(f\"Accuracy: {accuracy * 100:.2f}%\")\n",
        "print(\"Confusion Matrix:\")\n",
        "print(conf_matrix)\n"
      ]
    },
    {
      "cell_type": "markdown",
      "source": [
        "#Q2 - Iris Dataset"
      ],
      "metadata": {
        "id": "VU5u9c_k01YE"
      }
    },
    {
      "cell_type": "code",
      "source": [
        "import pandas as pd\n",
        "from sklearn.datasets import load_iris\n",
        "from sklearn.model_selection import train_test_split\n",
        "from sklearn.ensemble import AdaBoostClassifier\n",
        "from sklearn.tree import DecisionTreeClassifier\n",
        "from sklearn.linear_model import LogisticRegression\n",
        "from sklearn.metrics import accuracy_score\n",
        "\n",
        "# Load Iris dataset\n",
        "iris = load_iris()\n",
        "X = iris.data\n",
        "y = iris.target\n",
        "\n",
        "# Split dataset into 80% training and 20% testing\n",
        "X_train, X_test, y_train, y_test = train_test_split(X, y, test_size=0.2, random_state=42)\n",
        "\n",
        "# Define n_estimators values and learning rates for fine-tuning\n",
        "n_estimators_values = [50, 100, 150]\n",
        "learning_rates = [0.1, 0.5, 1.0]\n",
        "\n",
        "# Results with DecisionTreeClassifier as base estimator\n",
        "print(\"Results with DecisionTreeClassifier as base estimator:\")\n",
        "for n_estimators in n_estimators_values:\n",
        "    for learning_rate in learning_rates:\n",
        "        ada_boost_dt = AdaBoostClassifier(\n",
        "            n_estimators=n_estimators,\n",
        "            learning_rate=learning_rate,\n",
        "            random_state=42\n",
        "        )\n",
        "        ada_boost_dt.fit(X_train, y_train)\n",
        "        y_pred = ada_boost_dt.predict(X_test)\n",
        "        accuracy = accuracy_score(y_test, y_pred)\n",
        "        print(f\"n_estimators={n_estimators}, learning_rate={learning_rate} -> Accuracy: {accuracy * 100:.2f}%\")\n",
        "\n",
        "# Results with LogisticRegression as base estimator\n",
        "# Using Logistic Regression as a weak learner in AdaBoost is not directly supported, so we will skip this\n",
        "print(\"\\nLogistic Regression cannot be used as a base estimator directly in AdaBoost.\")\n"
      ],
      "metadata": {
        "colab": {
          "base_uri": "https://localhost:8080/"
        },
        "id": "WEngn7PRzrbD",
        "outputId": "f8ecbfab-e58e-4526-9ab0-90735de2f4c6"
      },
      "execution_count": null,
      "outputs": [
        {
          "output_type": "stream",
          "name": "stdout",
          "text": [
            "Results with DecisionTreeClassifier as base estimator:\n",
            "n_estimators=50, learning_rate=0.1 -> Accuracy: 100.00%\n",
            "n_estimators=50, learning_rate=0.5 -> Accuracy: 96.67%\n",
            "n_estimators=50, learning_rate=1.0 -> Accuracy: 93.33%\n",
            "n_estimators=100, learning_rate=0.1 -> Accuracy: 100.00%\n",
            "n_estimators=100, learning_rate=0.5 -> Accuracy: 100.00%\n",
            "n_estimators=100, learning_rate=1.0 -> Accuracy: 93.33%\n",
            "n_estimators=150, learning_rate=0.1 -> Accuracy: 100.00%\n",
            "n_estimators=150, learning_rate=0.5 -> Accuracy: 96.67%\n",
            "n_estimators=150, learning_rate=1.0 -> Accuracy: 93.33%\n",
            "\n",
            "Logistic Regression cannot be used as a base estimator directly in AdaBoost.\n"
          ]
        }
      ]
    },
    {
      "cell_type": "code",
      "source": [
        "import pandas as pd\n",
        "from sklearn.datasets import load_iris\n",
        "from sklearn.model_selection import train_test_split\n",
        "from sklearn.ensemble import AdaBoostClassifier\n",
        "from sklearn.tree import DecisionTreeClassifier\n",
        "from sklearn.linear_model import LogisticRegression\n",
        "from sklearn.metrics import accuracy_score\n",
        "\n",
        "# Load the iris dataset\n",
        "iris = load_iris()\n",
        "X = iris.data\n",
        "y = iris.target\n",
        "\n",
        "# Split into 80% train and 20% test\n",
        "X_train, X_test, y_train, y_test = train_test_split(X, y, test_size=0.2, random_state=42)\n",
        "\n",
        "# Hyperparameter values\n",
        "n_estimators_values = [50, 100, 150]\n",
        "learning_rates = [0.1, 0.5, 1.0]\n",
        "\n",
        "# Using DecisionTreeClassifier\n",
        "print(\"Results with DecisionTreeClassifier as base estimator:\")\n",
        "for n in n_estimators_values:\n",
        "    for lr in learning_rates:\n",
        "        model = AdaBoostClassifier(\n",
        "            estimator=DecisionTreeClassifier(max_depth=1),\n",
        "            n_estimators=n,\n",
        "            learning_rate=lr,\n",
        "            random_state=42\n",
        "        )\n",
        "        model.fit(X_train, y_train)\n",
        "        preds = model.predict(X_test)\n",
        "        acc = accuracy_score(y_test, preds)\n",
        "        print(f\"n_estimators={n}, learning_rate={lr} -> Accuracy: {acc * 100:.2f}%\")\n",
        "\n",
        "# Using LogisticRegression\n",
        "print(\"\\nResults with LogisticRegression as base estimator:\")\n",
        "for n in n_estimators_values:\n",
        "    for lr in learning_rates:\n",
        "        model = AdaBoostClassifier(\n",
        "            estimator=LogisticRegression(max_iter=1000, random_state=42),\n",
        "            n_estimators=n,\n",
        "            learning_rate=lr,\n",
        "            random_state=42\n",
        "        )\n",
        "        model.fit(X_train, y_train)\n",
        "        preds = model.predict(X_test)\n",
        "        acc = accuracy_score(y_test, preds)\n",
        "        print(f\"n_estimators={n}, learning_rate={lr} -> Accuracy: {acc * 100:.2f}%\")\n"
      ],
      "metadata": {
        "colab": {
          "base_uri": "https://localhost:8080/"
        },
        "id": "eVIq9zkm0xmc",
        "outputId": "1bb8b352-9eda-40a7-ecfc-14786518310d"
      },
      "execution_count": null,
      "outputs": [
        {
          "output_type": "stream",
          "name": "stdout",
          "text": [
            "Results with DecisionTreeClassifier as base estimator:\n",
            "n_estimators=50, learning_rate=0.1 -> Accuracy: 100.00%\n",
            "n_estimators=50, learning_rate=0.5 -> Accuracy: 96.67%\n",
            "n_estimators=50, learning_rate=1.0 -> Accuracy: 93.33%\n",
            "n_estimators=100, learning_rate=0.1 -> Accuracy: 100.00%\n",
            "n_estimators=100, learning_rate=0.5 -> Accuracy: 100.00%\n",
            "n_estimators=100, learning_rate=1.0 -> Accuracy: 93.33%\n",
            "n_estimators=150, learning_rate=0.1 -> Accuracy: 100.00%\n",
            "n_estimators=150, learning_rate=0.5 -> Accuracy: 96.67%\n",
            "n_estimators=150, learning_rate=1.0 -> Accuracy: 93.33%\n",
            "\n",
            "Results with LogisticRegression as base estimator:\n",
            "n_estimators=50, learning_rate=0.1 -> Accuracy: 100.00%\n",
            "n_estimators=50, learning_rate=0.5 -> Accuracy: 100.00%\n",
            "n_estimators=50, learning_rate=1.0 -> Accuracy: 93.33%\n",
            "n_estimators=100, learning_rate=0.1 -> Accuracy: 100.00%\n",
            "n_estimators=100, learning_rate=0.5 -> Accuracy: 100.00%\n",
            "n_estimators=100, learning_rate=1.0 -> Accuracy: 93.33%\n",
            "n_estimators=150, learning_rate=0.1 -> Accuracy: 100.00%\n",
            "n_estimators=150, learning_rate=0.5 -> Accuracy: 100.00%\n",
            "n_estimators=150, learning_rate=1.0 -> Accuracy: 93.33%\n"
          ]
        }
      ]
    },
    {
      "cell_type": "markdown",
      "source": [
        "Q3"
      ],
      "metadata": {
        "id": "b1tyPENwzkMb"
      }
    },
    {
      "cell_type": "code",
      "execution_count": null,
      "metadata": {
        "colab": {
          "base_uri": "https://localhost:8080/",
          "height": 504
        },
        "id": "Z9kO7-Kcy9sL",
        "outputId": "3625885a-fabb-45db-eb92-40e3faf890a4"
      },
      "outputs": [
        {
          "output_type": "display_data",
          "data": {
            "text/plain": [
              "<Figure size 800x500 with 1 Axes>"
            ],
            "image/png": "[encoded data removed]"
          },
          "metadata": {}
        },
        {
          "output_type": "stream",
          "name": "stdout",
          "text": [
            "Cluster labels for test data: [2 1 1 1 2 0 2 2 1 0]\n"
          ]
        }
      ],
      "source": [
        "import pandas as pd\n",
        "import numpy as np\n",
        "from sklearn.cluster import KMeans\n",
        "from sklearn.model_selection import train_test_split\n",
        "from sklearn.preprocessing import StandardScaler\n",
        "from sklearn.metrics import accuracy_score\n",
        "import matplotlib.pyplot as plt\n",
        "import random\n",
        "\n",
        "# Step 1: Create synthetic income dataset\n",
        "np.random.seed(42)\n",
        "names = [f'Person_{i}' for i in range(1, 51)]\n",
        "ages = np.random.randint(20, 60, size=50)\n",
        "incomes = np.random.randint(20000, 120000, size=50)\n",
        "\n",
        "income_df = pd.DataFrame({\n",
        "    'Name': names,\n",
        "    'Age': ages,\n",
        "    'Income': incomes\n",
        "})\n",
        "\n",
        "# Save to CSV (optional)\n",
        "income_df.to_csv(\"income.csv\", index=False)\n",
        "\n",
        "# Step 2: Load and preprocess\n",
        "df = pd.read_csv(\"income.csv\")\n",
        "\n",
        "# Drop name (non-numeric)\n",
        "df_numeric = df.drop('Name', axis=1)\n",
        "\n",
        "# Step 3: Scaling\n",
        "scaler = StandardScaler()\n",
        "df_scaled = scaler.fit_transform(df_numeric)\n",
        "\n",
        "# Step 4: Train-test split\n",
        "X_train, X_test = train_test_split(df_scaled, test_size=0.2, random_state=42)\n",
        "\n",
        "# Step 5: SSE vs number of clusters (Elbow method)\n",
        "sse = []\n",
        "k_range = range(1, 11)\n",
        "for k in k_range:\n",
        "    km = KMeans(n_clusters=k, random_state=42)\n",
        "    km.fit(X_train)\n",
        "    sse.append(km.inertia_)\n",
        "\n",
        "# Step 6: Plot SSE\n",
        "plt.figure(figsize=(8, 5))\n",
        "plt.plot(k_range, sse, marker='o')\n",
        "plt.title('SSE vs Number of Clusters')\n",
        "plt.xlabel('Number of Clusters (k)')\n",
        "plt.ylabel('Sum of Squared Errors (SSE)')\n",
        "plt.grid(True)\n",
        "plt.show()\n",
        "\n",
        "# Step 7: Fit KMeans with optimal k (e.g., 3)\n",
        "optimal_k = 3\n",
        "kmeans = KMeans(n_clusters=optimal_k, random_state=42)\n",
        "kmeans.fit(X_train)\n",
        "\n",
        "# Step 8: Predict clusters on test set\n",
        "y_pred = kmeans.predict(X_test)\n",
        "\n",
        "# Step 9: \"Accuracy\" – not meaningful in unsupervised, but just a check\n",
        "print(\"Cluster labels for test data:\", y_pred)\n"
      ]
    },
    {
      "cell_type": "markdown",
      "source": [
        "Q4"
      ],
      "metadata": {
        "id": "B4Gd2GT-H5tS"
      }
    },
    {
      "cell_type": "code",
      "source": [
        "import pandas as pd\n",
        "import numpy as np\n",
        "import matplotlib.pyplot as plt\n",
        "from sklearn.cluster import KMeans\n",
        "from sklearn.preprocessing import StandardScaler\n",
        "from sklearn.datasets import load_iris\n",
        "\n",
        "# Step 1: Load iris dataset and use only petal length & width\n",
        "iris = load_iris()\n",
        "iris_df = pd.DataFrame(iris.data, columns=iris.feature_names)\n",
        "iris_df = iris_df[['petal length (cm)', 'petal width (cm)']]  # drop other features\n",
        "\n",
        "# Step 2: Scaling\n",
        "scaler = StandardScaler()\n",
        "iris_scaled = scaler.fit_transform(iris_df)\n",
        "\n",
        "# Step 3: Elbow method to find optimal k\n",
        "sse = []\n",
        "k_range = range(1, 11)\n",
        "for k in k_range:\n",
        "    km = KMeans(n_clusters=k, random_state=42)\n",
        "    km.fit(iris_scaled)\n",
        "    sse.append(km.inertia_)\n",
        "\n",
        "# Step 4: Plot SSE vs k\n",
        "plt.figure(figsize=(8, 5))\n",
        "plt.plot(k_range, sse, marker='o')\n",
        "plt.title(\"Elbow Method: SSE vs Number of Clusters\")\n",
        "plt.xlabel(\"Number of Clusters (k)\")\n",
        "plt.ylabel(\"Sum of Squared Errors (SSE)\")\n",
        "plt.grid(True)\n",
        "plt.show()\n",
        "\n",
        "# Optional: Fit with optimal k = 3 and visualize clusters'\n",
        "'''\n",
        "optimal_k = 3\n",
        "kmeans = KMeans(n_clusters=optimal_k, random_state=42)\n",
        "labels = kmeans.fit_predict(iris_scaled)\n",
        "\n",
        "plt.figure(figsize=(8, 5))\n",
        "plt.scatter(iris_scaled[:, 0], iris_scaled[:, 1], c=labels, cmap='viridis', s=50)\n",
        "plt.title(\"KMeans Clustering (k=3) on Iris Petal Features\")\n",
        "plt.xlabel(\"Scaled Petal Length\")\n",
        "plt.ylabel(\"Scaled Petal Width\")\n",
        "plt.grid(True)\n",
        "plt.show()\n",
        "'''"
      ],
      "metadata": {
        "colab": {
          "base_uri": "https://localhost:8080/",
          "height": 523
        },
        "id": "lIsUBrOLznqq",
        "outputId": "dd865261-0d14-4efe-ead8-b71e27b2bfe4"
      },
      "execution_count": null,
      "outputs": [
        {
          "output_type": "display_data",
          "data": {
            "text/plain": [
              "<Figure size 800x500 with 1 Axes>"
            ],
            "image/png": "[encoded data removed]"
          },
          "metadata": {}
        },
        {
          "output_type": "execute_result",
          "data": {
            "text/plain": [
              "'\\noptimal_k = 3\\nkmeans = KMeans(n_clusters=optimal_k, random_state=42)\\nlabels = kmeans.fit_predict(iris_scaled)\\n\\nplt.figure(figsize=(8, 5))\\nplt.scatter(iris_scaled[:, 0], iris_scaled[:, 1], c=labels, cmap=\\'viridis\\', s=50)\\nplt.title(\"KMeans Clustering (k=3) on Iris Petal Features\")\\nplt.xlabel(\"Scaled Petal Length\")\\nplt.ylabel(\"Scaled Petal Width\")\\nplt.grid(True)\\nplt.show()\\n'"
            ],
            "application/vnd.google.colaboratory.intrinsic+json": {
              "type": "string"
            }
          },
          "metadata": {},
          "execution_count": 3
        }
      ]
    },
    {
      "cell_type": "markdown",
      "source": [
        "Q5"
      ],
      "metadata": {
        "id": "TjfVgedoIA5y"
      }
    },
    {
      "cell_type": "code",
      "source": [
        "from sklearn.datasets import load_digits\n",
        "from sklearn.model_selection import train_test_split\n",
        "from sklearn.preprocessing import StandardScaler\n",
        "from sklearn.linear_model import LogisticRegression\n",
        "from sklearn.decomposition import PCA\n",
        "from sklearn.metrics import accuracy_score\n",
        "\n",
        "# Load dataset\n",
        "digits = load_digits()\n",
        "X, y = digits.data, digits.target\n",
        "\n",
        "# Scaling\n",
        "scaler = StandardScaler()\n",
        "X_scaled = scaler.fit_transform(X)\n",
        "\n",
        "# Train-test split\n",
        "X_train, X_test, y_train, y_test = train_test_split(X_scaled, y, test_size=0.2, random_state=42)\n",
        "\n",
        "# Logistic Regression without PCA\n",
        "lr = LogisticRegression(max_iter=1000)\n",
        "lr.fit(X_train, y_train)\n",
        "preds = lr.predict(X_test)\n",
        "print(f\"Accuracy without PCA: {accuracy_score(y_test, preds):.4f}\")\n",
        "\n",
        "# Apply PCA with 2 components\n",
        "pca = PCA(n_components=2)\n",
        "X_pca = pca.fit_transform(X_scaled)\n",
        "\n",
        "# Split PCA-reduced data\n",
        "X_train_pca, X_test_pca, y_train_pca, y_test_pca = train_test_split(X_pca, y, test_size=0.2, random_state=42)\n",
        "\n",
        "# Logistic Regression with PCA-reduced data\n",
        "lr_pca = LogisticRegression(max_iter=1000)\n",
        "lr_pca.fit(X_train_pca, y_train_pca)\n",
        "preds_pca = lr_pca.predict(X_test_pca)\n",
        "print(f\"Accuracy with PCA (2 components): {accuracy_score(y_test_pca, preds_pca):.4f}\")\n"
      ],
      "metadata": {
        "colab": {
          "base_uri": "https://localhost:8080/"
        },
        "id": "L1dgRS3Wy0Li",
        "outputId": "0acda299-34b9-4e08-986e-49de0d0b3579"
      },
      "execution_count": null,
      "outputs": [
        {
          "output_type": "stream",
          "name": "stdout",
          "text": [
            "Accuracy without PCA: 0.9722\n",
            "Accuracy with PCA (2 components): 0.5389\n"
          ]
        }
      ]
    },
    {
      "cell_type": "markdown",
      "source": [
        "Q6"
      ],
      "metadata": {
        "id": "x_15ZeP6IFZa"
      }
    },
    {
      "cell_type": "code",
      "execution_count": null,
      "metadata": {
        "colab": {
          "base_uri": "https://localhost:8080/"
        },
        "id": "0SaZVY7rrloL",
        "outputId": "2a2674ed-e1ce-4553-81a8-9c87b39035a1"
      },
      "outputs": [
        {
          "output_type": "stream",
          "name": "stdout",
          "text": [
            "Column names in dataset: ['Age', 'Sex', 'ChestPainType', 'RestingBP', 'Cholesterol', 'FastingBS', 'RestingECG', 'MaxHR', 'ExerciseAngina', 'Oldpeak', 'ST_Slope', 'HeartDisease']\n",
            "Cleaned column names: ['age', 'sex', 'chestpaintype', 'restingbp', 'cholesterol', 'fastingbs', 'restingecg', 'maxhr', 'exerciseangina', 'oldpeak', 'st_slope', 'heartdisease']\n",
            "\n",
            "Model Accuracy WITHOUT PCA:\n",
            "Logistic Regression: 0.9444\n",
            "SVM: 0.9333\n",
            "Random Forest: 0.9222\n",
            "\n",
            "Model Accuracy WITH PCA:\n",
            "Logistic Regression: 0.8611\n",
            "SVM: 0.8778\n",
            "Random Forest: 0.8889\n"
          ]
        }
      ],
      "source": [
        "import pandas as pd\n",
        "import numpy as np\n",
        "from sklearn.preprocessing import StandardScaler\n",
        "from sklearn.model_selection import train_test_split\n",
        "from sklearn.ensemble import RandomForestClassifier\n",
        "from sklearn.linear_model import LogisticRegression\n",
        "from sklearn.svm import SVC\n",
        "from sklearn.metrics import accuracy_score\n",
        "from sklearn.decomposition import PCA\n",
        "from scipy.stats import zscore\n",
        "\n",
        "# Load dataset\n",
        "heart_df = pd.read_csv(\"heart.csv\")\n",
        "\n",
        "# Print column names to verify\n",
        "print(\"Column names in dataset:\", heart_df.columns.tolist())\n",
        "\n",
        "# Optional: rename columns if necessary (based on your dataset)\n",
        "# Example only – skip this if your columns are already clean\n",
        "heart_df.columns = [col.strip().lower() for col in heart_df.columns]\n",
        "\n",
        "# Reprint cleaned column names\n",
        "print(\"Cleaned column names:\", heart_df.columns.tolist())\n",
        "\n",
        "# Remove outliers using Z-score\n",
        "z_scores = np.abs(zscore(heart_df.select_dtypes(include=[np.number])))\n",
        "heart_df = heart_df[(z_scores < 3).all(axis=1)]\n",
        "\n",
        "# Determine categorical columns that need encoding\n",
        "categorical_cols = heart_df.select_dtypes(include=['object', 'category']).columns.tolist()\n",
        "\n",
        "# Encode categorical columns using one-hot encoding\n",
        "if categorical_cols:\n",
        "    heart_df = pd.get_dummies(heart_df, columns=categorical_cols, drop_first=True)\n",
        "\n",
        "# Split features and target\n",
        "target_col = 'target' if 'target' in heart_df.columns else heart_df.columns[-1]\n",
        "X = heart_df.drop(target_col, axis=1)\n",
        "y = heart_df[target_col]\n",
        "\n",
        "# Feature scaling\n",
        "scaler = StandardScaler()\n",
        "X_scaled = scaler.fit_transform(X)\n",
        "\n",
        "# Train-test split\n",
        "X_train, X_test, y_train, y_test = train_test_split(X_scaled, y, test_size=0.2, random_state=42)\n",
        "\n",
        "# Models\n",
        "models = {\n",
        "    'Logistic Regression': LogisticRegression(max_iter=1000),\n",
        "    'SVM': SVC(),\n",
        "    'Random Forest': RandomForestClassifier()\n",
        "}\n",
        "\n",
        "print(\"\\nModel Accuracy WITHOUT PCA:\")\n",
        "for name, model in models.items():\n",
        "    model.fit(X_train, y_train)\n",
        "    preds = model.predict(X_test)\n",
        "    print(f\"{name}: {accuracy_score(y_test, preds):.4f}\")\n",
        "\n",
        "# Apply PCA\n",
        "pca = PCA(n_components=5)\n",
        "X_pca = pca.fit_transform(X_scaled)\n",
        "X_train_pca, X_test_pca, y_train_pca, y_test_pca = train_test_split(X_pca, y, test_size=0.2, random_state=42)\n",
        "\n",
        "print(\"\\nModel Accuracy WITH PCA:\")\n",
        "for name, model in models.items():\n",
        "    model.fit(X_train_pca, y_train_pca)\n",
        "    preds = model.predict(X_test_pca)\n",
        "    print(f\"{name}: {accuracy_score(y_test_pca, preds):.4f}\")\n"
      ]
    }
  ]
}